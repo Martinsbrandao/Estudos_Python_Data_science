{
 "cells": [
  {
   "cell_type": "code",
   "execution_count": null,
   "metadata": {},
   "outputs": [],
   "source": [
    "import glob\n",
    "import os\n",
    "import json\n",
    "import re\n",
    "import pandas as pd\n",
    "def get_column_names(schemas, ds_name, sorting_key='column_position'):\n",
    "    column_details = schemas[ds_name]\n",
    "    columns = sorted(column_details, key=lambda col: col[sorting_key])\n",
    "    return [col['column_name'] for col in columns]\n",
    "def read_csv(file, schemas):\n",
    "    file_path_list = re.split('[/\\\\\\]', file)\n",
    "    ds_name = file_path_list[-2]\n",
    "    file_name = file_path_list[-1]\n",
    "    columns = get_column_names(schemas, ds_name)\n",
    "    df = pd.read_csv(file, names=columns)\n",
    "    return df\n",
    "def to_json(df, tgt_base_dir, ds_name, file_name):\n",
    "    json_file_path = f'{tgt_base_dir}/{ds_name}/{file_name}'\n",
    "    os.makedirs(f'{tgt_base_dir}/{ds_name}', exist_ok=True)\n",
    "    df.to_json(\n",
    "        json_file_path,\n",
    "        orient='records',\n",
    "        lines=True\n",
    "    )\n",
    "def file_converter(ds_name):\n",
    "    src_base_dir = 'data/retail_db'\n",
    "    tgt_base_dir = 'data/retail_db_json'\n",
    "\n",
    "    schemas = json.load(open(f'{src_base_dir}/schemas.json'))\n",
    "    files = glob.glob(f'{src_base_dir}/{ds_name}/part-*')\n",
    "\n",
    "    for file in files:\n",
    "        print(f'Processing {file}')\n",
    "        df = read_csv(file, schemas)\n",
    "        file_name = re.split('[/\\\\\\]', file)[-1]\n",
    "        to_json(df, tgt_base_dir, ds_name, file_name)\n",
    "\n",
    "\n",
    "\n",
    "ds_name = 'orders'\n",
    "file_converter(ds_name)\n"
   ]
  }
 ],
 "metadata": {
  "language_info": {
   "name": "python"
  }
 },
 "nbformat": 4,
 "nbformat_minor": 2
}
