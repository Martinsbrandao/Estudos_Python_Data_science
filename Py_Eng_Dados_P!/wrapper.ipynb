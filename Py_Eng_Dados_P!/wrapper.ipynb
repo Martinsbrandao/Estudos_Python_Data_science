{
 "cells": [
  {
   "cell_type": "code",
   "execution_count": null,
   "metadata": {},
   "outputs": [],
   "source": [
    "\n",
    "import glob\n",
    "import os\n",
    "import json\n",
    "import re\n",
    "import pandas as pd\n",
    "def get_column_names(schemas, ds_name, sorting_key='column_position'):\n",
    "    column_details = schemas[ds_name]\n",
    "    columns = sorted(column_details, key=lambda col: col[sorting_key])\n",
    "    return [col['column_name'] for col in columns]\n",
    "def read_csv(file, schemas):\n",
    "    file_path_list = re.split('[/\\\\\\]', file)\n",
    "    ds_name = file_path_list[-2]\n",
    "    \n",
    "    columns = get_column_names(schemas, ds_name)\n",
    "    df = pd.read_csv(file, names=columns)\n",
    "    return df\n",
    "def to_json(df, tgt_base_dir, ds_name, file_name):\n",
    "    json_file_path = f'{tgt_base_dir}/{ds_name}/{file_name}'\n",
    "    os.makedirs(f'{tgt_base_dir}/{ds_name}', exist_ok=True)\n",
    "    df.to_json(\n",
    "        json_file_path,\n",
    "        orient='records',\n",
    "        lines=True\n",
    "    )\n",
    "def file_converter(src_base_dir, tgt_base_dir, ds_name):\n",
    "    schemas = json.load(open(f'{src_base_dir}/schemas.json'))\n",
    "    files = glob.glob(f'{src_base_dir}/{ds_name}/part-*')\n",
    "\n",
    "    for file in files:\n",
    "        df = read_csv(file, schemas)\n",
    "        file_name = re.split('[/\\\\\\]', file)[-1]\n",
    "        to_json(df, tgt_base_dir, ds_name, file_name)\n",
    "def process_files(ds_names=None):\n",
    "    src_base_dir = os.environ.get(\"SRC_BASE_DIR\")\n",
    "    tgt_base_dir = os.environ.get(\"TGT_BASE_DIR\")\n",
    "    schemas = json.load(open(f'{src_base_dir}/schemas.json'))\n",
    "    if not ds_names:\n",
    "        ds_names = schemas.keys()\n",
    "    for ds_name in ds_names:\n",
    "        print(f'Processing {ds_name}')\n",
    "        file_converter(src_base_dir, tgt_base_dir, ds_name)\n",
    "process_files()\n",
    "\n",
    "schemas = json.load(open('data/retail_db/schemas.json'))\n",
    "schemas.keys()\n",
    "\n",
    "if __name__ == \"__main__\":\n",
    "    process_files()\n",
    "\n",
    "\n",
    " "
   ]
  }
 ],
 "metadata": {
  "kernelspec": {
   "display_name": "venv",
   "language": "python",
   "name": "python3"
  },
  "language_info": {
   "codemirror_mode": {
    "name": "ipython",
    "version": 3
   },
   "file_extension": ".py",
   "mimetype": "text/x-python",
   "name": "python",
   "nbconvert_exporter": "python",
   "pygments_lexer": "ipython3",
   "version": "3.11.1"
  }
 },
 "nbformat": 4,
 "nbformat_minor": 2
}
