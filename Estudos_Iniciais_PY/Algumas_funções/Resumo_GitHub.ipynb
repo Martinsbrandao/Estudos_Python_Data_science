{
 "cells": [
  {
   "cell_type": "markdown",
   "id": "34467b7d",
   "metadata": {},
   "source": [
    "# Resumo de Funcionalidades do GitHub e Git"
   ]
  },
  {
   "cell_type": "markdown",
   "id": "378f30a6",
   "metadata": {},
   "source": [
    "## 1. Criar Conta no GitHub"
   ]
  },
  {
   "cell_type": "markdown",
   "id": "9701aa23",
   "metadata": {},
   "source": [
    "Para compartilhar projetos de software e colaborar em projetos de outros desenvolvedores, é necessário criar uma conta no [GitHub](https://github.com)."
   ]
  },
  {
   "cell_type": "markdown",
   "id": "8870f266",
   "metadata": {},
   "source": [
    "## 2. Instalar o Git"
   ]
  },
  {
   "cell_type": "markdown",
   "id": "09a01505",
   "metadata": {},
   "source": [
    "Para gerenciar o versionamento de código localmente, baixe e instale o [Git](https://git-scm.com/) em seu computador."
   ]
  },
  {
   "cell_type": "markdown",
   "id": "f2e09df7",
   "metadata": {},
   "source": [
    "## 3. Configurar Conta do Git"
   ]
  },
  {
   "cell_type": "markdown",
   "id": "dd12417a",
   "metadata": {},
   "source": [
    "Configure sua conta Git no computador com os seguintes comandos:\n",
    "\n",
    "`git config --global user.name \"Seu Nome\"`\n",
    "\n",
    "`git config --global user.email \"seu_email@example.com\"`"
   ]
  },
  {
   "cell_type": "markdown",
   "id": "a5322e96",
   "metadata": {},
   "source": [
    "## 4. Criar Repositório Remoto no GitHub"
   ]
  },
  {
   "cell_type": "markdown",
   "id": "46de75d8",
   "metadata": {},
   "source": [
    "Para armazenar seus projetos no GitHub, crie um repositório remoto diretamente na interface web do GitHub."
   ]
  },
  {
   "cell_type": "markdown",
   "id": "c4e0fddc",
   "metadata": {},
   "source": [
    "## 5. Criar e Conectar Repositório Local"
   ]
  },
  {
   "cell_type": "markdown",
   "id": "075e990a",
   "metadata": {},
   "source": [
    "Crie um repositório local e conecte-o ao repositório remoto com os seguintes comandos:\n",
    "\n",
    "`git init`\n",
    "\n",
    "`git add .`\n",
    "\n",
    "`git commit -m \"Primeiro commit\"`\n",
    "\n",
    "`git remote add origin <URL_DO_REPOSITÓRIO_REMOTO>`\n",
    "\n",
    "`git push -u origin master`"
   ]
  },
  {
   "cell_type": "markdown",
   "id": "9f6f5b45",
   "metadata": {},
   "source": [
    "## 6. Clonar Repositório do GitHub"
   ]
  },
  {
   "cell_type": "markdown",
   "id": "6d6a1d34",
   "metadata": {},
   "source": [
    "Para baixar uma cópia de um repositório do GitHub para o seu computador, use o comando:\n",
    "\n",
    "`git clone <URL_DO_REPOSITÓRIO>`"
   ]
  },
  {
   "cell_type": "markdown",
   "id": "41fee973",
   "metadata": {},
   "source": [
    "## 7. Realizar e Registrar Alterações"
   ]
  },
  {
   "cell_type": "markdown",
   "id": "acee46df",
   "metadata": {},
   "source": [
    "Faça alterações no código e registre-as com os seguintes comandos:\n",
    "\n",
    "`git add .`\n",
    "\n",
    "`git commit -m \"Descrição das alterações\"`"
   ]
  },
  {
   "cell_type": "markdown",
   "id": "1eab8728",
   "metadata": {},
   "source": [
    "## 8. Visualizar Arquivos Modificados"
   ]
  },
  {
   "cell_type": "markdown",
   "id": "25d70d68",
   "metadata": {},
   "source": [
    "Para visualizar quais arquivos foram modificados no repositório local, utilize o comando:\n",
    "\n",
    "`git status`"
   ]
  },
  {
   "cell_type": "markdown",
   "id": "69bbbf50",
   "metadata": {},
   "source": [
    "## 9. Listar Commits"
   ]
  },
  {
   "cell_type": "markdown",
   "id": "18610ec5",
   "metadata": {},
   "source": [
    "Liste os commits realizados no repositório, com dados do autor, data e mensagem de cada commit, utilizando o comando:\n",
    "\n",
    "`git log`"
   ]
  },
  {
   "cell_type": "markdown",
   "id": "74ca78af",
   "metadata": {},
   "source": [
    "## 10. Visualizar Repositórios Remotos"
   ]
  },
  {
   "cell_type": "markdown",
   "id": "1a80ce85",
   "metadata": {},
   "source": [
    "Veja os repositórios remotos linkados com o repositório local, utilizando o comando:\n",
    "\n",
    "`git remote -v`"
   ]
  },
  {
   "cell_type": "markdown",
   "id": "a8148a71",
   "metadata": {},
   "source": [
    "## 11. Enviar Commits ao Repositório Remoto"
   ]
  },
  {
   "cell_type": "markdown",
   "id": "1a9c4093",
   "metadata": {},
   "source": [
    "Envie os commits feitos no repositório local para o repositório remoto com o comando:\n",
    "\n",
    "`git push`"
   ]
  },
  {
   "cell_type": "markdown",
   "id": "f2ff7fc5",
   "metadata": {},
   "source": [
    "## 12. Baixar Commits do Repositório Remoto"
   ]
  },
  {
   "cell_type": "markdown",
   "id": "06a4bc23",
   "metadata": {},
   "source": [
    "Para sincronizar as alterações do repositório remoto com o seu repositório local, utilize o comando:\n",
    "\n",
    "`git pull`"
   ]
  },
  {
   "cell_type": "markdown",
   "id": "2b04d86a",
   "metadata": {},
   "source": [
    "## 13. Adicionar Colaboradores em um Repositório"
   ]
  },
  {
   "cell_type": "markdown",
   "id": "49f9786d",
   "metadata": {},
   "source": [
    "No GitHub, você pode adicionar colaboradores em um repositório através das configurações do repositório. Para aceitar um convite de colaboração, o usuário convidado deve acessar o link de convite e aceitar."
   ]
  },
  {
   "cell_type": "markdown",
   "id": "0f219b5a",
   "metadata": {},
   "source": [
    "## 14. Usar Git Integrado no VSCode"
   ]
  },
  {
   "cell_type": "markdown",
   "id": "bb207310",
   "metadata": {},
   "source": [
    "O VSCode oferece uma interface integrada com o Git, permitindo a realização de comandos Git sem precisar utilizar o terminal."
   ]
  },
  {
   "cell_type": "markdown",
   "id": "d0de8cf0",
   "metadata": {},
   "source": [
    "## 15. Lidar com Conflitos de Código"
   ]
  },
  {
   "cell_type": "markdown",
   "id": "4813ce83",
   "metadata": {},
   "source": [
    "Quando dois commits diferentes modificam o mesmo arquivo, pode ocorrer um conflito de código. O Git sinaliza o conflito com marcações visuais no código. Para resolver o conflito, edite o arquivo manualmente e faça um commit para marcar o conflito como resolvido."
   ]
  },
  {
   "cell_type": "markdown",
   "id": "0d2bedd9",
   "metadata": {},
   "source": [
    "## 16. Reverter Mudanças com Git Revert"
   ]
  },
  {
   "cell_type": "markdown",
   "id": "c075896c",
   "metadata": {},
   "source": [
    "Para reverter automaticamente as mudanças de um commit, utilize o comando:\n",
    "\n",
    "`git revert <ID_DO_COMMIT>`"
   ]
  },
  {
   "cell_type": "markdown",
   "id": "0ea736b8",
   "metadata": {},
   "source": [
    "## 17. Apagar um Commit com Git Reset"
   ]
  },
  {
   "cell_type": "markdown",
   "id": "8732228a",
   "metadata": {},
   "source": [
    "Para apagar um commit do histórico e desfazer suas mudanças no código, utilize o comando:\n",
    "\n",
    "`git reset <ID_DO_COMMIT>`"
   ]
  },
  {
   "cell_type": "markdown",
   "id": "838378fa",
   "metadata": {},
   "source": [
    "## 18. Modificar Último Commit"
   ]
  },
  {
   "cell_type": "markdown",
   "id": "766de5a8",
   "metadata": {},
   "source": [
    "Para alterar a mensagem ou as modificações do último commit efetuado, utilize o comando:\n",
    "\n",
    "`git commit --amend`"
   ]
  },
  {
   "cell_type": "markdown",
   "id": "a72fa1f0",
   "metadata": {},
   "source": [
    "## 19. Criar README"
   ]
  },
  {
   "cell_type": "markdown",
   "id": "3fe6b87b",
   "metadata": {},
   "source": [
    "O arquivo `README.md` serve como documentação principal de um repositório, explicando a finalidade do projeto, como usá-lo, e outras informações importantes."
   ]
  },
  {
   "cell_type": "markdown",
   "id": "72fa834f",
   "metadata": {},
   "source": [
    "## 20. Usar .gitignore"
   ]
  },
  {
   "cell_type": "markdown",
   "id": "3fc5e160",
   "metadata": {},
   "source": [
    "O arquivo `.gitignore` informa ao Git quais arquivos ou diretórios devem ser ignorados no controle de versão."
   ]
  },
  {
   "cell_type": "markdown",
   "id": "b641c9a9",
   "metadata": {},
   "source": [
    "## 21. Compartilhar Códigos com Gist"
   ]
  },
  {
   "cell_type": "markdown",
   "id": "96956405",
   "metadata": {},
   "source": [
    "O Gist do GitHub é uma ferramenta para compartilhar trechos de código de forma rápida e prática."
   ]
  }
 ],
 "metadata": {},
 "nbformat": 4,
 "nbformat_minor": 5
}
